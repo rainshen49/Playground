{
 "cells": [
  {
   "cell_type": "code",
   "execution_count": 1,
   "metadata": {},
   "outputs": [],
   "source": [
    "from collections import OrderedDict\n",
    "import pprint\n",
    "years=4\n",
    "rate = 1.33\n",
    "master = {\"year\":1,\"pop\":10}\n",
    "def traverse(state):\n",
    "    # if end of time, return 0\n",
    "    if state[\"year\"] == years:\n",
    "        state[\"decision\"] = \"end\"\n",
    "    else:\n",
    "        # return max PV of tofish and not to fish\n",
    "        # fish\n",
    "        state[\"fish\"]={\n",
    "            \"year\":state[\"year\"]+1,\n",
    "            \"pop\":state[\"pop\"]\n",
    "        }\n",
    "        state[\"rest\"]={\n",
    "            \"year\":state[\"year\"]+1,\n",
    "            \"pop\":state[\"pop\"]*2\n",
    "        }\n",
    "        traverse(state[\"fish\"])\n",
    "        traverse(state[\"rest\"])\n",
    "#         caught = 0.7 * fishpop\n",
    "#         value1 = caught + findMaxPV(fishpop, yearsleft - 1) / rate\n",
    "#         value2 = findMaxPV(fishpop * 2, yearsleft - 1) / rate\n",
    "#         if(value1 > value2):\n",
    "#             tofish[yearsleft] = True\n",
    "#             return value1\n",
    "#         else:\n",
    "#             tofish[yearsleft] = False\n",
    "#             return value2\n"
   ]
  },
  {
   "cell_type": "code",
   "execution_count": 2,
   "metadata": {},
   "outputs": [
    {
     "data": {
      "text/plain": [
       "{'fish': {'fish': {'fish': {'decision': 'end', 'pop': 10, 'year': 4},\n",
       "   'pop': 10,\n",
       "   'rest': {'decision': 'end', 'pop': 20, 'year': 4},\n",
       "   'year': 3},\n",
       "  'pop': 10,\n",
       "  'rest': {'fish': {'decision': 'end', 'pop': 20, 'year': 4},\n",
       "   'pop': 20,\n",
       "   'rest': {'decision': 'end', 'pop': 40, 'year': 4},\n",
       "   'year': 3},\n",
       "  'year': 2},\n",
       " 'pop': 10,\n",
       " 'rest': {'fish': {'fish': {'decision': 'end', 'pop': 20, 'year': 4},\n",
       "   'pop': 20,\n",
       "   'rest': {'decision': 'end', 'pop': 40, 'year': 4},\n",
       "   'year': 3},\n",
       "  'pop': 20,\n",
       "  'rest': {'fish': {'decision': 'end', 'pop': 40, 'year': 4},\n",
       "   'pop': 40,\n",
       "   'rest': {'decision': 'end', 'pop': 80, 'year': 4},\n",
       "   'year': 3},\n",
       "  'year': 2},\n",
       " 'year': 1}"
      ]
     },
     "execution_count": 2,
     "metadata": {},
     "output_type": "execute_result"
    }
   ],
   "source": [
    "traverse(master)\n",
    "master"
   ]
  },
  {
   "cell_type": "code",
   "execution_count": 3,
   "metadata": {},
   "outputs": [],
   "source": [
    "def findOptimum(state):\n",
    "#     find the optimum gain in the current state\n",
    "    if 'decision' in state and state[\"decision\"]==\"end\":\n",
    "        state[\"$\"]=0\n",
    "        return 0\n",
    "    else:\n",
    "        caught = 0.7 * state[\"pop\"]\n",
    "        value1 = caught + findOptimum(state[\"fish\"]) / rate\n",
    "        value2 = findOptimum(state[\"rest\"]) / rate\n",
    "        if(value1 > value2):\n",
    "            state[\"decision\"]=\"fish\"\n",
    "            state[\"$\"]=value1\n",
    "            return value1\n",
    "        else:\n",
    "            state[\"decision\"]=\"rest\"\n",
    "            state[\"$\"]=value2\n",
    "            return value2\n",
    "        "
   ]
  },
  {
   "cell_type": "code",
   "execution_count": 4,
   "metadata": {},
   "outputs": [
    {
     "data": {
      "text/plain": [
       "18.440838939453897"
      ]
     },
     "execution_count": 4,
     "metadata": {},
     "output_type": "execute_result"
    }
   ],
   "source": [
    "findOptimum(master)"
   ]
  },
  {
   "cell_type": "code",
   "execution_count": 5,
   "metadata": {},
   "outputs": [
    {
     "data": {
      "text/plain": [
       "{'$': 18.440838939453897,\n",
       " 'decision': 'rest',\n",
       " 'fish': {'$': 12.263157894736842,\n",
       "  'decision': 'fish',\n",
       "  'fish': {'$': 7.0,\n",
       "   'decision': 'fish',\n",
       "   'fish': {'$': 0, 'decision': 'end', 'pop': 10, 'year': 4},\n",
       "   'pop': 10,\n",
       "   'rest': {'$': 0, 'decision': 'end', 'pop': 20, 'year': 4},\n",
       "   'year': 3},\n",
       "  'pop': 10,\n",
       "  'rest': {'$': 14.0,\n",
       "   'decision': 'fish',\n",
       "   'fish': {'$': 0, 'decision': 'end', 'pop': 20, 'year': 4},\n",
       "   'pop': 20,\n",
       "   'rest': {'$': 0, 'decision': 'end', 'pop': 40, 'year': 4},\n",
       "   'year': 3},\n",
       "  'year': 2},\n",
       " 'pop': 10,\n",
       " 'rest': {'$': 24.526315789473685,\n",
       "  'decision': 'fish',\n",
       "  'fish': {'$': 14.0,\n",
       "   'decision': 'fish',\n",
       "   'fish': {'$': 0, 'decision': 'end', 'pop': 20, 'year': 4},\n",
       "   'pop': 20,\n",
       "   'rest': {'$': 0, 'decision': 'end', 'pop': 40, 'year': 4},\n",
       "   'year': 3},\n",
       "  'pop': 20,\n",
       "  'rest': {'$': 28.0,\n",
       "   'decision': 'fish',\n",
       "   'fish': {'$': 0, 'decision': 'end', 'pop': 40, 'year': 4},\n",
       "   'pop': 40,\n",
       "   'rest': {'$': 0, 'decision': 'end', 'pop': 80, 'year': 4},\n",
       "   'year': 3},\n",
       "  'year': 2},\n",
       " 'year': 1}"
      ]
     },
     "execution_count": 5,
     "metadata": {},
     "output_type": "execute_result"
    }
   ],
   "source": [
    "master"
   ]
  },
  {
   "cell_type": "code",
   "execution_count": 9,
   "metadata": {},
   "outputs": [],
   "source": [
    "def presentable(master):\n",
    "    if 'fish' in master:\n",
    "        result = OrderedDict()\n",
    "        result[\"In year {year}\".format(year=master[\"year\"])]=\\\n",
    "        \"there are {pop} fish, best case we {decide} and get ${gain:.2f} in total\"\\\n",
    "        .format(pop=master[\"pop\"],decide=master[\"decision\"],gain=master[\"$\"])\n",
    "        if not master[\"fish\"][\"decision\"] == \"end\":\n",
    "            result[\"Consider fishing:\"] = presentable(master[\"fish\"])\n",
    "            result[\"Consider resting:\"]= presentable(master[\"rest\"])\n",
    "    return result\n",
    "    "
   ]
  },
  {
   "cell_type": "code",
   "execution_count": 10,
   "metadata": {},
   "outputs": [],
   "source": [
    "presentation = pprint.PrettyPrinter(indent=0, width=200).pformat(presentable(master))"
   ]
  },
  {
   "cell_type": "code",
   "execution_count": 11,
   "metadata": {
    "scrolled": false
   },
   "outputs": [
    {
     "name": "stdout",
     "output_type": "stream",
     "text": [
      "In year 1 there are 10 fish, best case we rest and get $18.44 in total,\n",
      "    Consider fishing:\n",
      "    In year 2 there are 10 fish, best case we fish and get $12.26 in total,\n",
      "        Consider fishing: In year 3 there are 10 fish, best case we fish and get $7.00 in total\n",
      "        Consider resting: In year 3 there are 20 fish, best case we fish and get $14.00 in total\n",
      "    Consider resting:\n",
      "    In year 2 there are 20 fish, best case we fish and get $24.53 in total,\n",
      "        Consider fishing: In year 3 there are 20 fish, best case we fish and get $14.00 in total\n",
      "        Consider resting: In year 3 there are 40 fish, best case we fish and get $28.00 in total\n"
     ]
    }
   ],
   "source": [
    "print(presentation.replace('OrderedDict([','').replace('])','')\\\n",
    "     .replace(\"('\",'').replace(\"')\",'').replace(\"',\",'').replace(\" '\",' ').replace('),','').replace(')','')\\\n",
    "#      .replace(\"', '\",' ').replace(\"',\",'').replace(\"')\",'').replace('),','').replace(')','')\\\n",
    "     .replace(\"            \",\"    \"))"
   ]
  },
  {
   "cell_type": "code",
   "execution_count": null,
   "metadata": {},
   "outputs": [],
   "source": []
  }
 ],
 "metadata": {
  "kernelspec": {
   "display_name": "Python 3",
   "language": "python",
   "name": "python3"
  },
  "language_info": {
   "codemirror_mode": {
    "name": "ipython",
    "version": 3
   },
   "file_extension": ".py",
   "mimetype": "text/x-python",
   "name": "python",
   "nbconvert_exporter": "python",
   "pygments_lexer": "ipython3",
   "version": "3.6.2"
  }
 },
 "nbformat": 4,
 "nbformat_minor": 2
}
