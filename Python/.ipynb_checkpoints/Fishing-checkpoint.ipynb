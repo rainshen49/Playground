{
 "cells": [
  {
   "cell_type": "code",
   "execution_count": 30,
   "metadata": {},
   "outputs": [],
   "source": [
    "from collections import OrderedDict\n",
    "years=3\n",
    "rate = 1.6\n",
    "master = {\"year\":0,\"pop\":10}\n",
    "def traverse(state):\n",
    "    # if end of time, return 0\n",
    "    if state[\"year\"] == years:\n",
    "        state[\"decision\"] = \"end\"\n",
    "    else:\n",
    "        # return max PV of tofish and not to fish\n",
    "        # fish\n",
    "        state[\"fish\"]={\n",
    "            \"year\":state[\"year\"]+1,\n",
    "            \"pop\":state[\"pop\"]\n",
    "        }\n",
    "        state[\"rest\"]={\n",
    "            \"year\":state[\"year\"]+1,\n",
    "            \"pop\":state[\"pop\"]*2\n",
    "        }\n",
    "        traverse(state[\"fish\"])\n",
    "        traverse(state[\"rest\"])\n",
    "#         caught = 0.7 * fishpop\n",
    "#         value1 = caught + findMaxPV(fishpop, yearsleft - 1) / rate\n",
    "#         value2 = findMaxPV(fishpop * 2, yearsleft - 1) / rate\n",
    "#         if(value1 > value2):\n",
    "#             tofish[yearsleft] = True\n",
    "#             return value1\n",
    "#         else:\n",
    "#             tofish[yearsleft] = False\n",
    "#             return value2\n"
   ]
  },
  {
   "cell_type": "code",
   "execution_count": 31,
   "metadata": {},
   "outputs": [
    {
     "data": {
      "text/plain": [
       "{'fish': {'fish': {'fish': {'decision': 'end', 'pop': 10, 'year': 3},\n",
       "   'pop': 10,\n",
       "   'rest': {'decision': 'end', 'pop': 20, 'year': 3},\n",
       "   'year': 2},\n",
       "  'pop': 10,\n",
       "  'rest': {'fish': {'decision': 'end', 'pop': 20, 'year': 3},\n",
       "   'pop': 20,\n",
       "   'rest': {'decision': 'end', 'pop': 40, 'year': 3},\n",
       "   'year': 2},\n",
       "  'year': 1},\n",
       " 'pop': 10,\n",
       " 'rest': {'fish': {'fish': {'decision': 'end', 'pop': 20, 'year': 3},\n",
       "   'pop': 20,\n",
       "   'rest': {'decision': 'end', 'pop': 40, 'year': 3},\n",
       "   'year': 2},\n",
       "  'pop': 20,\n",
       "  'rest': {'fish': {'decision': 'end', 'pop': 40, 'year': 3},\n",
       "   'pop': 40,\n",
       "   'rest': {'decision': 'end', 'pop': 80, 'year': 3},\n",
       "   'year': 2},\n",
       "  'year': 1},\n",
       " 'year': 0}"
      ]
     },
     "execution_count": 31,
     "metadata": {},
     "output_type": "execute_result"
    }
   ],
   "source": [
    "traverse(master)\n",
    "master"
   ]
  },
  {
   "cell_type": "code",
   "execution_count": 37,
   "metadata": {},
   "outputs": [],
   "source": [
    "def findOptimum(state):\n",
    "#     find the optimum gain in the current state\n",
    "    if 'decision' in state and state[\"decision\"]==\"end\":\n",
    "        state[\"$\"]=0\n",
    "        return 0\n",
    "    else:\n",
    "        caught = 0.7 * state[\"pop\"]\n",
    "        value1 = caught + findOptimum(state[\"fish\"]) / rate\n",
    "        value2 = findOptimum(state[\"rest\"]) / rate\n",
    "        if(value1 > value2):\n",
    "            state[\"decision\"]=\"fish\"\n",
    "            state[\"$\"]=value1\n",
    "            return value1\n",
    "        else:\n",
    "            state[\"decision\"]=\"rest\"\n",
    "            state[\"$\"]=value2\n",
    "            return value2\n",
    "        "
   ]
  },
  {
   "cell_type": "code",
   "execution_count": 38,
   "metadata": {},
   "outputs": [
    {
     "data": {
      "text/plain": [
       "14.21875"
      ]
     },
     "execution_count": 38,
     "metadata": {},
     "output_type": "execute_result"
    }
   ],
   "source": [
    "findOptimum(master)"
   ]
  },
  {
   "cell_type": "code",
   "execution_count": 39,
   "metadata": {},
   "outputs": [
    {
     "data": {
      "text/plain": [
       "{'decision': 'rest',\n",
       " 'fish': {'decision': 'fish',\n",
       "  'fish': {'decision': 'fish',\n",
       "   'fish': {'decision': 'end', 'pop': 10, 'year': 3},\n",
       "   'pop': 10,\n",
       "   'rest': {'decision': 'end', 'pop': 20, 'year': 3},\n",
       "   'year': 2},\n",
       "  'pop': 10,\n",
       "  'rest': {'decision': 'fish',\n",
       "   'fish': {'decision': 'end', 'pop': 20, 'year': 3},\n",
       "   'pop': 20,\n",
       "   'rest': {'decision': 'end', 'pop': 40, 'year': 3},\n",
       "   'year': 2},\n",
       "  'year': 1},\n",
       " 'pop': 10,\n",
       " 'rest': {'decision': 'fish',\n",
       "  'fish': {'decision': 'fish',\n",
       "   'fish': {'decision': 'end', 'pop': 20, 'year': 3},\n",
       "   'pop': 20,\n",
       "   'rest': {'decision': 'end', 'pop': 40, 'year': 3},\n",
       "   'year': 2},\n",
       "  'pop': 20,\n",
       "  'rest': {'decision': 'fish',\n",
       "   'fish': {'decision': 'end', 'pop': 40, 'year': 3},\n",
       "   'pop': 40,\n",
       "   'rest': {'decision': 'end', 'pop': 80, 'year': 3},\n",
       "   'year': 2},\n",
       "  'year': 1},\n",
       " 'year': 0}"
      ]
     },
     "execution_count": 39,
     "metadata": {},
     "output_type": "execute_result"
    }
   ],
   "source": [
    "master"
   ]
  },
  {
   "cell_type": "code",
   "execution_count": 40,
   "metadata": {},
   "outputs": [],
   "source": [
    "def presentable(master):\n",
    "    result = OrderedDict()\n",
    "    result[\"year\"]=master[\"year\"]\n",
    "    result[\"pop\"]=master[\"pop\"]\n",
    "    result[\"decision\"]=master[\"decision\"]\n",
    "    if 'fish' in master:\n",
    "        result[\"fish\"]=presentable(master[\"fish\"])\n",
    "        result[\"rest\"]=presentable(master[\"rest\"])\n",
    "    return result\n",
    "    "
   ]
  },
  {
   "cell_type": "code",
   "execution_count": 41,
   "metadata": {},
   "outputs": [
    {
     "data": {
      "text/plain": [
       "OrderedDict([('year', 0),\n",
       "             ('pop', 10),\n",
       "             ('decision', 'rest'),\n",
       "             ('fish',\n",
       "              OrderedDict([('year', 1),\n",
       "                           ('pop', 10),\n",
       "                           ('decision', 'fish'),\n",
       "                           ('fish',\n",
       "                            OrderedDict([('year', 2),\n",
       "                                         ('pop', 10),\n",
       "                                         ('decision', 'fish'),\n",
       "                                         ('fish',\n",
       "                                          OrderedDict([('year', 3),\n",
       "                                                       ('pop', 10),\n",
       "                                                       ('decision', 'end')])),\n",
       "                                         ('rest',\n",
       "                                          OrderedDict([('year', 3),\n",
       "                                                       ('pop', 20),\n",
       "                                                       ('decision',\n",
       "                                                        'end')]))])),\n",
       "                           ('rest',\n",
       "                            OrderedDict([('year', 2),\n",
       "                                         ('pop', 20),\n",
       "                                         ('decision', 'fish'),\n",
       "                                         ('fish',\n",
       "                                          OrderedDict([('year', 3),\n",
       "                                                       ('pop', 20),\n",
       "                                                       ('decision', 'end')])),\n",
       "                                         ('rest',\n",
       "                                          OrderedDict([('year', 3),\n",
       "                                                       ('pop', 40),\n",
       "                                                       ('decision',\n",
       "                                                        'end')]))]))])),\n",
       "             ('rest',\n",
       "              OrderedDict([('year', 1),\n",
       "                           ('pop', 20),\n",
       "                           ('decision', 'fish'),\n",
       "                           ('fish',\n",
       "                            OrderedDict([('year', 2),\n",
       "                                         ('pop', 20),\n",
       "                                         ('decision', 'fish'),\n",
       "                                         ('fish',\n",
       "                                          OrderedDict([('year', 3),\n",
       "                                                       ('pop', 20),\n",
       "                                                       ('decision', 'end')])),\n",
       "                                         ('rest',\n",
       "                                          OrderedDict([('year', 3),\n",
       "                                                       ('pop', 40),\n",
       "                                                       ('decision',\n",
       "                                                        'end')]))])),\n",
       "                           ('rest',\n",
       "                            OrderedDict([('year', 2),\n",
       "                                         ('pop', 40),\n",
       "                                         ('decision', 'fish'),\n",
       "                                         ('fish',\n",
       "                                          OrderedDict([('year', 3),\n",
       "                                                       ('pop', 40),\n",
       "                                                       ('decision', 'end')])),\n",
       "                                         ('rest',\n",
       "                                          OrderedDict([('year', 3),\n",
       "                                                       ('pop', 80),\n",
       "                                                       ('decision',\n",
       "                                                        'end')]))]))]))])"
      ]
     },
     "execution_count": 41,
     "metadata": {},
     "output_type": "execute_result"
    }
   ],
   "source": [
    "presentable(master)"
   ]
  },
  {
   "cell_type": "code",
   "execution_count": null,
   "metadata": {},
   "outputs": [],
   "source": []
  }
 ],
 "metadata": {
  "kernelspec": {
   "display_name": "Python 3",
   "language": "python",
   "name": "python3"
  },
  "language_info": {
   "codemirror_mode": {
    "name": "ipython",
    "version": 3
   },
   "file_extension": ".py",
   "mimetype": "text/x-python",
   "name": "python",
   "nbconvert_exporter": "python",
   "pygments_lexer": "ipython3",
   "version": "3.6.2"
  }
 },
 "nbformat": 4,
 "nbformat_minor": 2
}
